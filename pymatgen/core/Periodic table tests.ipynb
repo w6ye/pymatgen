{
 "cells": [
  {
   "cell_type": "code",
   "execution_count": 8,
   "metadata": {
    "collapsed": false
   },
   "outputs": [],
   "source": [
    "from pymatgen.core.periodic_table import get_el_sp"
   ]
  },
  {
   "cell_type": "code",
   "execution_count": 9,
   "metadata": {
    "collapsed": false
   },
   "outputs": [],
   "source": [
    "u = get_el_sp(\"U\")\n",
    "al = get_el_sp(\"Al\")\n",
    "yb = get_el_sp(\"Yb\")"
   ]
  },
  {
   "cell_type": "code",
   "execution_count": 10,
   "metadata": {
    "collapsed": false
   },
   "outputs": [
    {
     "data": {
      "text/plain": [
       "[(1, 's', 2),\n",
       " (2, 's', 2),\n",
       " (2, 'p', 6),\n",
       " (3, 's', 2),\n",
       " (3, 'p', 6),\n",
       " (3, 'd', 10),\n",
       " (4, 's', 2),\n",
       " (4, 'p', 6),\n",
       " (4, 'd', 10),\n",
       " (5, 's', 2),\n",
       " (5, 'p', 6),\n",
       " (4, 'f', 14),\n",
       " (6, 's', 2)]"
      ]
     },
     "execution_count": 10,
     "metadata": {},
     "output_type": "execute_result"
    }
   ],
   "source": [
    "yb.full_electronic_structure"
   ]
  },
  {
   "cell_type": "code",
   "execution_count": null,
   "metadata": {
    "collapsed": false
   },
   "outputs": [],
   "source": [
    "for n, l_symbol, ne in u.full_electronic_structure[::-1]:\n",
    "    print (n, l_symbol, ne)"
   ]
  },
  {
   "cell_type": "code",
   "execution_count": null,
   "metadata": {
    "collapsed": false
   },
   "outputs": [],
   "source": [
    "al.valence"
   ]
  },
  {
   "cell_type": "code",
   "execution_count": null,
   "metadata": {
    "collapsed": false
   },
   "outputs": [],
   "source": [
    "al.term_symbols"
   ]
  },
  {
   "cell_type": "code",
   "execution_count": null,
   "metadata": {
    "collapsed": true
   },
   "outputs": [],
   "source": [
    "    def term_symbols(self, valence):\n",
    "        \"\"\"\n",
    "        All possible  Russell-Saunders term symbol of the Element\n",
    "        eg. L = 1, n_e = 2 (s2)\n",
    "        returns\n",
    "           [['1D2'], ['3P0', '3P1', '3P2'], ['1S0']]\n",
    "\n",
    "        \"\"\"\n",
    "        L_symbols = 'SPDFGHIKLMNOQRTUVWXYZ'\n",
    "\n",
    "        L, v_e = valence\n",
    "\n",
    "        # for one electron in subshell L\n",
    "        ml = list(range(-L, L + 1))\n",
    "        ms = [1 / 2, -1 / 2]\n",
    "        # all possible configurations of ml,ms for one e in subshell L\n",
    "        ml_ms = list(product(ml, ms))\n",
    "\n",
    "        # Number of possible configurations for r electrons in subshell L.\n",
    "        n = (2 * L + 1) * 2\n",
    "        # the combination of n_e electrons configurations\n",
    "        # C^{n}_{n_e}\n",
    "        e_config_combs = list(combinations(range(n), v_e))\n",
    "\n",
    "        # Total ML = sum(ml1, ml2), Total MS = sum(ms1, ms2)\n",
    "        TL = [sum([ml_ms[comb[e]][0] for e in range(v_e)])\n",
    "              for comb in e_config_combs]\n",
    "        TS = [sum([ml_ms[comb[e]][1] for e in range(v_e)])\n",
    "              for comb in e_config_combs]\n",
    "        comb_counter = Counter([r for r in zip(TL, TS)])\n",
    "\n",
    "        term_symbols = []\n",
    "        while sum(comb_counter.values()) > 0:\n",
    "            # Start from the lowest freq combination,\n",
    "            # which corresponds to largest abs(L) and smallest abs(S)\n",
    "            L, S = min(comb_counter)\n",
    "\n",
    "            J = list(np.arange(abs(L - S), abs(L) + abs(S) + 1))\n",
    "            term_symbols.append([str(int(2 * (abs(S)) + 1))\n",
    "                                 + L_symbols[abs(L)]\n",
    "                                 + str(j) for j in J])\n",
    "            # Without J\n",
    "            # term_symbols.append(str(int(2 * (abs(S)) + 1)) \\\n",
    "            #                     + L_symbols[abs(L)])\n",
    "\n",
    "            # Delete all configurations included in this term\n",
    "            for ML in range(-L, L - 1, -1):\n",
    "                for MS in np.arange(S, -S + 1, 1):\n",
    "                    if (ML, MS) in comb_counter:\n",
    "\n",
    "                        comb_counter[(ML, MS)] -= 1\n",
    "                        if comb_counter[(ML, MS)] == 0:\n",
    "                            del comb_counter[(ML, MS)]\n",
    "        return term_symbols\n"
   ]
  },
  {
   "cell_type": "code",
   "execution_count": null,
   "metadata": {
    "collapsed": true
   },
   "outputs": [],
   "source": []
  }
 ],
 "metadata": {
  "anaconda-cloud": {},
  "kernelspec": {
   "display_name": "Python [conda root]",
   "language": "python",
   "name": "conda-root-py"
  },
  "language_info": {
   "codemirror_mode": {
    "name": "ipython",
    "version": 3
   },
   "file_extension": ".py",
   "mimetype": "text/x-python",
   "name": "python",
   "nbconvert_exporter": "python",
   "pygments_lexer": "ipython3",
   "version": "3.5.2"
  }
 },
 "nbformat": 4,
 "nbformat_minor": 2
}
